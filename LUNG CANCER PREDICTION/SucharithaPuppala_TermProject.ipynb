{
 "cells": [
  {
   "cell_type": "markdown",
   "metadata": {},
   "source": [
    "## WEEK 10\n",
    "## TERM PROJECT\n",
    "### Author: Sucharitha Puppala\n",
    "###  Date : 08-08-2022"
   ]
  },
  {
   "cell_type": "markdown",
   "metadata": {},
   "source": [
    "### Analysis of the Lung Cancer data set."
   ]
  },
  {
   "cell_type": "code",
   "execution_count": 1,
   "metadata": {},
   "outputs": [],
   "source": [
    "# Importing the necessary libraries.\n",
    "\n",
    "from __future__ import print_function, division\n",
    "import thinkstats2\n",
    "import thinkplot\n",
    "import sys\n",
    "import numpy as np\n",
    "import pandas\n",
    "import random"
   ]
  },
  {
   "cell_type": "markdown",
   "metadata": {},
   "source": [
    "#### Step 1 : Reading the data set."
   ]
  },
  {
   "cell_type": "code",
   "execution_count": 2,
   "metadata": {},
   "outputs": [],
   "source": [
    "# Function to read the data file i.e. the Survey of the Lung Cancer data file which in CSV format. \n",
    "def LungcancerData():\n",
    "    df = pandas.read_csv('survey lung cancer.csv')\n",
    "    return df"
   ]
  },
  {
   "cell_type": "markdown",
   "metadata": {},
   "source": [
    "#### Step 2 : Getting the data information."
   ]
  },
  {
   "cell_type": "code",
   "execution_count": 3,
   "metadata": {},
   "outputs": [
    {
     "data": {
      "text/html": [
       "<div>\n",
       "<style scoped>\n",
       "    .dataframe tbody tr th:only-of-type {\n",
       "        vertical-align: middle;\n",
       "    }\n",
       "\n",
       "    .dataframe tbody tr th {\n",
       "        vertical-align: top;\n",
       "    }\n",
       "\n",
       "    .dataframe thead th {\n",
       "        text-align: right;\n",
       "    }\n",
       "</style>\n",
       "<table border=\"1\" class=\"dataframe\">\n",
       "  <thead>\n",
       "    <tr style=\"text-align: right;\">\n",
       "      <th></th>\n",
       "      <th>GENDER</th>\n",
       "      <th>AGE</th>\n",
       "      <th>SMOKING</th>\n",
       "      <th>YELLOW_FINGERS</th>\n",
       "      <th>ANXIETY</th>\n",
       "      <th>PEER_PRESSURE</th>\n",
       "      <th>CHRONIC DISEASE</th>\n",
       "      <th>FATIGUE</th>\n",
       "      <th>ALLERGY</th>\n",
       "      <th>WHEEZING</th>\n",
       "      <th>ALCOHOL CONSUMING</th>\n",
       "      <th>COUGHING</th>\n",
       "      <th>SHORTNESS OF BREATH</th>\n",
       "      <th>SWALLOWING DIFFICULTY</th>\n",
       "      <th>CHEST PAIN</th>\n",
       "      <th>LUNG_CANCER</th>\n",
       "    </tr>\n",
       "  </thead>\n",
       "  <tbody>\n",
       "    <tr>\n",
       "      <th>0</th>\n",
       "      <td>M</td>\n",
       "      <td>69</td>\n",
       "      <td>1</td>\n",
       "      <td>2</td>\n",
       "      <td>2</td>\n",
       "      <td>1</td>\n",
       "      <td>1</td>\n",
       "      <td>2</td>\n",
       "      <td>1</td>\n",
       "      <td>2</td>\n",
       "      <td>2</td>\n",
       "      <td>2</td>\n",
       "      <td>2</td>\n",
       "      <td>2</td>\n",
       "      <td>2</td>\n",
       "      <td>YES</td>\n",
       "    </tr>\n",
       "    <tr>\n",
       "      <th>1</th>\n",
       "      <td>M</td>\n",
       "      <td>74</td>\n",
       "      <td>2</td>\n",
       "      <td>1</td>\n",
       "      <td>1</td>\n",
       "      <td>1</td>\n",
       "      <td>2</td>\n",
       "      <td>2</td>\n",
       "      <td>2</td>\n",
       "      <td>1</td>\n",
       "      <td>1</td>\n",
       "      <td>1</td>\n",
       "      <td>2</td>\n",
       "      <td>2</td>\n",
       "      <td>2</td>\n",
       "      <td>YES</td>\n",
       "    </tr>\n",
       "    <tr>\n",
       "      <th>2</th>\n",
       "      <td>F</td>\n",
       "      <td>59</td>\n",
       "      <td>1</td>\n",
       "      <td>1</td>\n",
       "      <td>1</td>\n",
       "      <td>2</td>\n",
       "      <td>1</td>\n",
       "      <td>2</td>\n",
       "      <td>1</td>\n",
       "      <td>2</td>\n",
       "      <td>1</td>\n",
       "      <td>2</td>\n",
       "      <td>2</td>\n",
       "      <td>1</td>\n",
       "      <td>2</td>\n",
       "      <td>NO</td>\n",
       "    </tr>\n",
       "    <tr>\n",
       "      <th>3</th>\n",
       "      <td>M</td>\n",
       "      <td>63</td>\n",
       "      <td>2</td>\n",
       "      <td>2</td>\n",
       "      <td>2</td>\n",
       "      <td>1</td>\n",
       "      <td>1</td>\n",
       "      <td>1</td>\n",
       "      <td>1</td>\n",
       "      <td>1</td>\n",
       "      <td>2</td>\n",
       "      <td>1</td>\n",
       "      <td>1</td>\n",
       "      <td>2</td>\n",
       "      <td>2</td>\n",
       "      <td>NO</td>\n",
       "    </tr>\n",
       "    <tr>\n",
       "      <th>4</th>\n",
       "      <td>F</td>\n",
       "      <td>63</td>\n",
       "      <td>1</td>\n",
       "      <td>2</td>\n",
       "      <td>1</td>\n",
       "      <td>1</td>\n",
       "      <td>1</td>\n",
       "      <td>1</td>\n",
       "      <td>1</td>\n",
       "      <td>2</td>\n",
       "      <td>1</td>\n",
       "      <td>2</td>\n",
       "      <td>2</td>\n",
       "      <td>1</td>\n",
       "      <td>1</td>\n",
       "      <td>NO</td>\n",
       "    </tr>\n",
       "  </tbody>\n",
       "</table>\n",
       "</div>"
      ],
      "text/plain": [
       "  GENDER  AGE  SMOKING  YELLOW_FINGERS  ANXIETY  PEER_PRESSURE  \\\n",
       "0      M   69        1               2        2              1   \n",
       "1      M   74        2               1        1              1   \n",
       "2      F   59        1               1        1              2   \n",
       "3      M   63        2               2        2              1   \n",
       "4      F   63        1               2        1              1   \n",
       "\n",
       "   CHRONIC DISEASE  FATIGUE   ALLERGY   WHEEZING  ALCOHOL CONSUMING  COUGHING  \\\n",
       "0                1         2         1         2                  2         2   \n",
       "1                2         2         2         1                  1         1   \n",
       "2                1         2         1         2                  1         2   \n",
       "3                1         1         1         1                  2         1   \n",
       "4                1         1         1         2                  1         2   \n",
       "\n",
       "   SHORTNESS OF BREATH  SWALLOWING DIFFICULTY  CHEST PAIN LUNG_CANCER  \n",
       "0                    2                      2           2         YES  \n",
       "1                    2                      2           2         YES  \n",
       "2                    2                      1           2          NO  \n",
       "3                    1                      2           2          NO  \n",
       "4                    2                      1           1          NO  "
      ]
     },
     "execution_count": 3,
     "metadata": {},
     "output_type": "execute_result"
    }
   ],
   "source": [
    "LCdata = LungcancerData()\n",
    "LCdata.head()"
   ]
  },
  {
   "cell_type": "markdown",
   "metadata": {},
   "source": [
    "#### Step 3 : Include a histogram of each of the 5 variables – in your summary and analysis, identify any outliers and explain the reasoning for them being outliers and how you believe they should be handled (Chapter 2)."
   ]
  },
  {
   "cell_type": "markdown",
   "metadata": {},
   "source": [
    "From the above data set I would like to select the below list of vriables for plotting the histograms:\n",
    "\n",
    "1. AGE\n",
    "2. SMOKING \n",
    "3. CHOUGHING\n",
    "4. ALCOHOL CONSUMING\n",
    "5. CHEST PAIN"
   ]
  },
  {
   "cell_type": "code",
   "execution_count": 4,
   "metadata": {},
   "outputs": [
    {
     "name": "stdout",
     "output_type": "stream",
     "text": [
      "<class 'pandas.core.frame.DataFrame'>\n",
      "RangeIndex: 309 entries, 0 to 308\n",
      "Data columns (total 16 columns):\n",
      " #   Column                 Non-Null Count  Dtype \n",
      "---  ------                 --------------  ----- \n",
      " 0   GENDER                 309 non-null    object\n",
      " 1   AGE                    309 non-null    int64 \n",
      " 2   SMOKING                309 non-null    int64 \n",
      " 3   YELLOW_FINGERS         309 non-null    int64 \n",
      " 4   ANXIETY                309 non-null    int64 \n",
      " 5   PEER_PRESSURE          309 non-null    int64 \n",
      " 6   CHRONIC DISEASE        309 non-null    int64 \n",
      " 7   FATIGUE                309 non-null    int64 \n",
      " 8   ALLERGY                309 non-null    int64 \n",
      " 9   WHEEZING               309 non-null    int64 \n",
      " 10  ALCOHOL CONSUMING      309 non-null    int64 \n",
      " 11  COUGHING               309 non-null    int64 \n",
      " 12  SHORTNESS OF BREATH    309 non-null    int64 \n",
      " 13  SWALLOWING DIFFICULTY  309 non-null    int64 \n",
      " 14  CHEST PAIN             309 non-null    int64 \n",
      " 15  LUNG_CANCER            309 non-null    object\n",
      "dtypes: int64(14), object(2)\n",
      "memory usage: 38.8+ KB\n"
     ]
    }
   ],
   "source": [
    "# Getting the info of the data set.\n",
    "LCdata.info()"
   ]
  },
  {
   "cell_type": "code",
   "execution_count": 5,
   "metadata": {},
   "outputs": [
    {
     "data": {
      "text/plain": [
       "GENDER                   0\n",
       "AGE                      0\n",
       "SMOKING                  0\n",
       "YELLOW_FINGERS           0\n",
       "ANXIETY                  0\n",
       "PEER_PRESSURE            0\n",
       "CHRONIC DISEASE          0\n",
       "FATIGUE                  0\n",
       "ALLERGY                  0\n",
       "WHEEZING                 0\n",
       "ALCOHOL CONSUMING        0\n",
       "COUGHING                 0\n",
       "SHORTNESS OF BREATH      0\n",
       "SWALLOWING DIFFICULTY    0\n",
       "CHEST PAIN               0\n",
       "LUNG_CANCER              0\n",
       "dtype: int64"
      ]
     },
     "execution_count": 5,
     "metadata": {},
     "output_type": "execute_result"
    }
   ],
   "source": [
    "# Checking for null values.\n",
    "LCdata.isna().sum()"
   ]
  },
  {
   "cell_type": "code",
   "execution_count": 6,
   "metadata": {},
   "outputs": [
    {
     "name": "stdout",
     "output_type": "stream",
     "text": [
      " We have 33 duplicate entries out of 309 entries in the LUNG CANCER dataset.\n"
     ]
    }
   ],
   "source": [
    "# Checking for duplicates.\n",
    "duplicate = LCdata[LCdata.duplicated()].shape[0]\n",
    "print(f\" We have {duplicate} duplicate entries out of {LCdata.shape[0]} entries in the LUNG CANCER dataset.\")"
   ]
  },
  {
   "cell_type": "code",
   "execution_count": 7,
   "metadata": {},
   "outputs": [
    {
     "name": "stdout",
     "output_type": "stream",
     "text": [
      "\n",
      " The duplicate records are removed and we have 276 entries in the LUNG CANCER dataset.\n"
     ]
    }
   ],
   "source": [
    "# Dropping the duplicates.\n",
    "LCdata.drop_duplicates(keep='first',inplace=True)\n",
    "print(f\"\\n The duplicate records are removed and we have {LCdata.shape[0]} entries in the LUNG CANCER dataset.\")"
   ]
  },
  {
   "cell_type": "code",
   "execution_count": 8,
   "metadata": {},
   "outputs": [
    {
     "data": {
      "image/png": "[encoded data removed]",
      "text/plain": [
       "<Figure size 432x288 with 1 Axes>"
      ]
     },
     "metadata": {
      "needs_background": "light"
     },
     "output_type": "display_data"
    },
    {
     "data": {
      "text/plain": [
       "<Figure size 576x432 with 0 Axes>"
      ]
     },
     "metadata": {},
     "output_type": "display_data"
    }
   ],
   "source": [
    "# 1. Plotting the histogram for 'AGE' variable from the LUNG CANCER dataset.\n",
    "hist = thinkstats2.Hist(LCdata.AGE, label='AGE')\n",
    "thinkplot.Hist(hist)\n",
    "thinkplot.Show(xlabel='AGE', ylabel='FREQUENCY')"
   ]
  },
  {
   "cell_type": "markdown",
   "metadata": {},
   "source": [
    "##### Checking for outliers:\n",
    "\n",
    "From the above histogram we see that the age group between 25 to 39 have no cases of having Lung Cancer.Between the age group of 50 to 79 we can see more number of persons having lung cancer."
   ]
  },
  {
   "cell_type": "code",
   "execution_count": 9,
   "metadata": {},
   "outputs": [
    {
     "data": {
      "image/png": "[encoded data removed]",
      "text/plain": [
       "<Figure size 432x288 with 1 Axes>"
      ]
     },
     "metadata": {
      "needs_background": "light"
     },
     "output_type": "display_data"
    },
    {
     "data": {
      "text/plain": [
       "<Figure size 576x432 with 0 Axes>"
      ]
     },
     "metadata": {},
     "output_type": "display_data"
    }
   ],
   "source": [
    "# 2. Plotting the histogram for 'SMOKING' variable from the LUNG CANCER dataset.\n",
    "hist = thinkstats2.Hist(LCdata.SMOKING, label='SMOKING')\n",
    "thinkplot.Hist(hist)\n",
    "thinkplot.Show(xlabel='SMOKING', ylabel='FREQUENCY')"
   ]
  },
  {
   "cell_type": "code",
   "execution_count": 10,
   "metadata": {},
   "outputs": [
    {
     "data": {
      "image/png": "[encoded data removed]",
      "text/plain": [
       "<Figure size 432x288 with 1 Axes>"
      ]
     },
     "metadata": {
      "needs_background": "light"
     },
     "output_type": "display_data"
    },
    {
     "data": {
      "text/plain": [
       "<Figure size 576x432 with 0 Axes>"
      ]
     },
     "metadata": {},
     "output_type": "display_data"
    }
   ],
   "source": [
    "# 3. Plotting the histogram for 'COUGHING' variable from the LUNG CANCER dataset.\n",
    "#thinkplot.figure(figsize=(20,10))\n",
    "hist = thinkstats2.Hist(LCdata.COUGHING, label='COUGHING')\n",
    "thinkplot.Hist(hist)\n",
    "\n",
    "thinkplot.Show(xlabel='COUGHING', ylabel='FREQUENCY')"
   ]
  },
  {
   "cell_type": "code",
   "execution_count": 11,
   "metadata": {},
   "outputs": [
    {
     "data": {
      "image/png": "[encoded data removed]",
      "text/plain": [
       "<Figure size 432x288 with 1 Axes>"
      ]
     },
     "metadata": {
      "needs_background": "light"
     },
     "output_type": "display_data"
    },
    {
     "data": {
      "text/plain": [
       "<Figure size 576x432 with 0 Axes>"
      ]
     },
     "metadata": {},
     "output_type": "display_data"
    }
   ],
   "source": [
    "#4. Plotting the histogram for 'ALCOHOL CONSUMING' variable from the LUNG CANCER dataset.\n",
    "hist = thinkstats2.Hist(LCdata['ALCOHOL CONSUMING'], label='ALCOHOL CONSUMING')\n",
    "thinkplot.Hist(hist)\n",
    "thinkplot.Show(xlabel='ALCOHOL CONSUMING', ylabel='FREQUENCY')"
   ]
  },
  {
   "cell_type": "code",
   "execution_count": 12,
   "metadata": {},
   "outputs": [
    {
     "data": {
      "image/png": "[encoded data removed]",
      "text/plain": [
       "<Figure size 432x288 with 1 Axes>"
      ]
     },
     "metadata": {
      "needs_background": "light"
     },
     "output_type": "display_data"
    },
    {
     "data": {
      "text/plain": [
       "<Figure size 576x432 with 0 Axes>"
      ]
     },
     "metadata": {},
     "output_type": "display_data"
    }
   ],
   "source": [
    "#5. Plotting the histogram for 'CHEST PAIN' variable from the LUNG CANCER dataset.\n",
    "hist = thinkstats2.Hist(LCdata['CHEST PAIN'], label='CHEST PAIN')\n",
    "thinkplot.Hist(hist)\n",
    "thinkplot.Show(xlabel='CHEST PAIN', ylabel='FREQUENCY')"
   ]
  },
  {
   "cell_type": "markdown",
   "metadata": {},
   "source": [
    "#### Step 4: Include the other descriptive characteristics about the variables: Mean, Mode, Spread, and Tails (Chapter 2).\n",
    "1. AGE\n",
    "2. SMOKING \n",
    "3. CHOUGHING\n",
    "4. ALCOHOL CONSUMING\n",
    "5. CHEST PAIN"
   ]
  },
  {
   "cell_type": "code",
   "execution_count": 13,
   "metadata": {},
   "outputs": [
    {
     "name": "stdout",
     "output_type": "stream",
     "text": [
      "1.Mean of 'AGE' variable from the LUNG CANCER dataset : 62.90942028985507\n",
      "2.Variance of 'AGE' variable from the LUNG CANCER dataset: 70.21358366271411\n",
      "3.Standard deviation of 'AGE' variable from the LUNG CANCER dataset: 8.37935460896089\n"
     ]
    }
   ],
   "source": [
    "#1. Descriptive characteristics of the variable 'AGE' is as below:\n",
    "AGE_mean = LCdata.AGE.mean() \n",
    "AGE_var  = LCdata.AGE.var() \n",
    "AGE_std  = LCdata.AGE.std() \n",
    "print(f\"1.Mean of 'AGE' variable from the LUNG CANCER dataset : {AGE_mean}\")\n",
    "print(f\"2.Variance of 'AGE' variable from the LUNG CANCER dataset: {AGE_var}\")\n",
    "print(f\"3.Standard deviation of 'AGE' variable from the LUNG CANCER dataset: {AGE_std}\")"
   ]
  },
  {
   "cell_type": "code",
   "execution_count": 14,
   "metadata": {},
   "outputs": [
    {
     "name": "stdout",
     "output_type": "stream",
     "text": [
      "1.Mean of 'SMOKING' variable from the LUNG CANCER dataset : 1.5434782608695652\n",
      "2.Variance of 'SMOKING' variable from the LUNG CANCER dataset: 0.2490118577075088\n",
      "3.Standard deviation of 'SMOKING' variable from the LUNG CANCER dataset: 0.49901087934784427\n"
     ]
    }
   ],
   "source": [
    "#2. Descriptive characteristics of the variable 'SMOKING' is as below:\n",
    "SMOKING_mean = LCdata.SMOKING.mean() \n",
    "SMOKING_var  = LCdata.SMOKING.var() \n",
    "SMOKING_std  = LCdata.SMOKING.std() \n",
    "print(f\"1.Mean of 'SMOKING' variable from the LUNG CANCER dataset : {SMOKING_mean}\")\n",
    "print(f\"2.Variance of 'SMOKING' variable from the LUNG CANCER dataset: {SMOKING_var}\")\n",
    "print(f\"3.Standard deviation of 'SMOKING' variable from the LUNG CANCER dataset: {SMOKING_std}\")"
   ]
  },
  {
   "cell_type": "code",
   "execution_count": 15,
   "metadata": {},
   "outputs": [
    {
     "name": "stdout",
     "output_type": "stream",
     "text": [
      "1.Mean of 'COUGHING' variable from the LUNG CANCER dataset : 1.576086956521739\n",
      "2.Variance of 'COUGHING' variable from the LUNG CANCER dataset: 0.24509881422924815\n",
      "3.Standard deviation of 'COUGHING' variable from the LUNG CANCER dataset: 0.49507455421304797\n"
     ]
    }
   ],
   "source": [
    "#3.Descriptive characteristics of the variable 'COUGHING' is as below:\n",
    "COUGHING_mean = LCdata.COUGHING.mean() \n",
    "COUGHING_var  = LCdata.COUGHING.var() \n",
    "COUGHING_std  = LCdata.COUGHING.std() \n",
    "print(f\"1.Mean of 'COUGHING' variable from the LUNG CANCER dataset : {COUGHING_mean}\")\n",
    "print(f\"2.Variance of 'COUGHING' variable from the LUNG CANCER dataset: {COUGHING_var}\")\n",
    "print(f\"3.Standard deviation of 'COUGHING' variable from the LUNG CANCER dataset: {COUGHING_std}\")"
   ]
  },
  {
   "cell_type": "code",
   "execution_count": 16,
   "metadata": {},
   "outputs": [
    {
     "name": "stdout",
     "output_type": "stream",
     "text": [
      "1.Mean of 'ALCOHOL CONSUMING' variable from the LUNG CANCER dataset : 1.5507246376811594\n",
      "2.Variance of 'ALCOHOL CONSUMING' variable from the LUNG CANCER dataset: 0.24832674571805027\n",
      "3.Standard deviation of 'ALCOHOL CONSUMING' variable from the LUNG CANCER dataset: 0.4983239365292924\n"
     ]
    }
   ],
   "source": [
    "#4.Descriptive characteristics of the variable 'ALCOHOL CONSUMING' is as below:\n",
    "ALCOHOL_mean = LCdata['ALCOHOL CONSUMING'].mean() \n",
    "ALCOHOL_var  = LCdata['ALCOHOL CONSUMING'].var() \n",
    "ALCOHOL_std  = LCdata['ALCOHOL CONSUMING'].std() \n",
    "print(f\"1.Mean of 'ALCOHOL CONSUMING' variable from the LUNG CANCER dataset : {ALCOHOL_mean}\")\n",
    "print(f\"2.Variance of 'ALCOHOL CONSUMING' variable from the LUNG CANCER dataset: {ALCOHOL_var}\")\n",
    "print(f\"3.Standard deviation of 'ALCOHOL CONSUMING' variable from the LUNG CANCER dataset: {ALCOHOL_std}\")"
   ]
  },
  {
   "cell_type": "code",
   "execution_count": 17,
   "metadata": {},
   "outputs": [
    {
     "name": "stdout",
     "output_type": "stream",
     "text": [
      "1.Mean of 'CHEST PAIN' variable from the LUNG CANCER dataset : 1.5579710144927537\n",
      "2.Variance of 'CHEST PAIN' variable from the LUNG CANCER dataset: 0.24753623188405766\n",
      "3.Standard deviation of 'CHEST PAIN' variable from the LUNG CANCER dataset: 0.49753013163431387\n"
     ]
    }
   ],
   "source": [
    "# 5. Descriptive characteristics of the variable 'CHEST PAIN' is as below:\n",
    "CP_mean = LCdata['CHEST PAIN'] .mean() \n",
    "CP_var  = LCdata['CHEST PAIN'].var() \n",
    "CP_std  = LCdata['CHEST PAIN'].std() \n",
    "print(f\"1.Mean of 'CHEST PAIN' variable from the LUNG CANCER dataset : {CP_mean}\")\n",
    "print(f\"2.Variance of 'CHEST PAIN' variable from the LUNG CANCER dataset: {CP_var}\")\n",
    "print(f\"3.Standard deviation of 'CHEST PAIN' variable from the LUNG CANCER dataset: {CP_std}\")"
   ]
  },
  {
   "cell_type": "markdown",
   "metadata": {},
   "source": [
    "#### Step 5: Using pg. 29 of your text as an example, compare two scenarios in your data using a PMF. Reminder, this isn’t comparing two variables against each other – it is the same variable, but a different scenario. Almost like a filter. The example in the book is first babies compared to all other babies, it is still the same variable, but breaking the data out based on criteria we are exploring (Chapter 3)."
   ]
  },
  {
   "cell_type": "code",
   "execution_count": 18,
   "metadata": {},
   "outputs": [
    {
     "data": {
      "image/png": "[encoded data removed]",
      "text/plain": [
       "<Figure size 864x432 with 2 Axes>"
      ]
     },
     "metadata": {
      "needs_background": "light"
     },
     "output_type": "display_data"
    },
    {
     "data": {
      "text/plain": [
       "<Figure size 576x432 with 0 Axes>"
      ]
     },
     "metadata": {},
     "output_type": "display_data"
    }
   ],
   "source": [
    "# Selecting the width\n",
    "width = 0.45\n",
    "\n",
    "# For age more at risk of having lung cancer is selcted by the age group greater than 50 years.\n",
    "agemore = LCdata[LCdata.AGE > 50]\n",
    "# For age less at risk of having lung cancer is selected by the age group less than 40 years.\n",
    "ageless = LCdata[LCdata.AGE < 40]\n",
    "\n",
    "# Plotting the PMF's individually for ideal and nonideal cases.\n",
    "agemore_pmf = thinkstats2.Pmf(agemore.AGE, label='Age above 50')\n",
    "ageless_pmf = thinkstats2.Pmf(ageless.AGE, label='Age below 40')\n",
    "\n",
    "thinkplot.PrePlot(2, cols=2)\n",
    "thinkplot.Hist(agemore_pmf, align='right',width = width)\n",
    "thinkplot.Hist(ageless_pmf, align='right',width= width)\n",
    "thinkplot.Config(xlabel = 'AGE', ylable = \"PMF\")\n",
    "\n",
    "thinkplot.PrePlot(2)\n",
    "thinkplot.SubPlot(2)\n",
    "thinkplot.Pmfs([agemore_pmf,ageless_pmf])\n",
    "thinkplot.Show(xlabel='AGE')"
   ]
  },
  {
   "cell_type": "markdown",
   "metadata": {},
   "source": [
    "#### Step 6 : Create 1 CDF with one of your variables, using page 41-44 as your guide, what does this tell you about your variable and how does it address the question you are trying to answer (Chapter 4)."
   ]
  },
  {
   "cell_type": "code",
   "execution_count": 19,
   "metadata": {},
   "outputs": [
    {
     "data": {
      "image/png": "[encoded data removed]",
      "text/plain": [
       "<Figure size 432x288 with 1 Axes>"
      ]
     },
     "metadata": {
      "needs_background": "light"
     },
     "output_type": "display_data"
    },
    {
     "data": {
      "text/plain": [
       "<Figure size 576x432 with 0 Axes>"
      ]
     },
     "metadata": {},
     "output_type": "display_data"
    }
   ],
   "source": [
    "agecdf = thinkstats2.Cdf(LCdata.AGE, label='AGE')\n",
    "thinkplot.PrePlot(2)\n",
    "thinkplot.Cdf(agecdf)\n",
    "thinkplot.Show(xlabel='AGE', ylabel='CDF')"
   ]
  },
  {
   "cell_type": "markdown",
   "metadata": {},
   "source": [
    "1. CDF(Cumulative Distribution Factor):\n",
    "   This is a function that maps from a value to its percentile rank.\n",
    "2. Here the above CDF is plotted for AGE variable.\n",
    "3. From the above CDF plot the common values appear as steep or vertical sections of the CDF plot.\n",
    "4. Here from the above plot the mode at age 65 years is apparent.\n",
    "5. The CDF range is flat for ages (20 to 40) and (80 to 90)."
   ]
  },
  {
   "cell_type": "markdown",
   "metadata": {},
   "source": [
    "#### Step 7: Plot 1 analytical distribution and provide your analysis on how it applies to the dataset you have chosen (Chapter 5)."
   ]
  },
  {
   "cell_type": "code",
   "execution_count": 20,
   "metadata": {},
   "outputs": [],
   "source": [
    "# Function for normal Probability plot\n",
    "def MakeNormalPlot(age):\n",
    "    mean, var = thinkstats2.TrimmedMeanVar(age, p=0.01)\n",
    "    std = np.sqrt(var)\n",
    "\n",
    "    xs = [-4,4]\n",
    "    xs, ys = thinkstats2.FitLine(xs, mean, std)\n",
    "    thinkplot.Plot(xs, ys, color='red', label='model')\n",
    "\n",
    "    xs, ys = thinkstats2.NormalProbability(age)\n",
    "    thinkplot.Plot(xs, ys, label='AGE')"
   ]
  },
  {
   "cell_type": "code",
   "execution_count": 21,
   "metadata": {},
   "outputs": [
    {
     "data": {
      "image/png": "[encoded data removed]",
      "text/plain": [
       "<Figure size 432x288 with 1 Axes>"
      ]
     },
     "metadata": {
      "needs_background": "light"
     },
     "output_type": "display_data"
    }
   ],
   "source": [
    "age = LCdata.AGE.dropna()\n",
    "MakeNormalPlot(age)\n",
    "thinkplot.Config(title='AGE', xlabel='AGE',\n",
    "                 ylabel='CDF', loc='upper left')"
   ]
  },
  {
   "cell_type": "markdown",
   "metadata": {},
   "source": [
    "1. From the above plot we can see that both the curves match the model approximately near the mean and deviate in the tails.\n",
    "2. The people aged below are at less risk in getting lung cancer and the people aged above 50 to 75 are at high risk in getting lung cancer.\n",
    "3. When we select the maximum possible age group we can remove the people aged below 40 , hence reducing the discrepancy in the lower tail of the distribution.\n",
    "4. With above plot we can suggest that the normal model describes the distribution well within a few standard deviations from the mean , but not in the tails.\n",
    "5. For practical purposes if this model best fits or not depends on the purpose."
   ]
  },
  {
   "cell_type": "markdown",
   "metadata": {},
   "source": [
    "#### Step 8: Create two scatter plots comparing two variables and provide your analysis on correlation and causation. Remember, covariance, Pearson’s correlation, and Non-Linear Relationships should also be considered during your analysis (Chapter 7)."
   ]
  },
  {
   "cell_type": "code",
   "execution_count": 22,
   "metadata": {},
   "outputs": [],
   "source": [
    "#Function for computing Covariance.\n",
    "\n",
    "def Cov(xs, ys, meanx=None, meany=None):\n",
    "    xs = np.asarray(xs)\n",
    "    ys = np.asarray(ys)\n",
    "\n",
    "    if meanx is None:\n",
    "        meanx = np.mean(xs)\n",
    "    if meany is None:\n",
    "        meany = np.mean(ys)\n",
    "\n",
    "    cov = np.dot(xs-meanx, ys-meany) / len(xs)\n",
    "    return cov"
   ]
  },
  {
   "cell_type": "code",
   "execution_count": 23,
   "metadata": {},
   "outputs": [],
   "source": [
    "# Function for computing Pearson's Correlation.\n",
    "def Corr(xs, ys):\n",
    "    xs = np.asarray(xs)\n",
    "    ys = np.asarray(ys)\n",
    "\n",
    "    meanx, varx = thinkstats2.MeanVar(xs)\n",
    "    meany, vary = thinkstats2.MeanVar(ys)\n",
    "\n",
    "    corr = Cov(xs, ys, meanx, meany) / np.sqrt(varx * vary)\n",
    "    return corr"
   ]
  },
  {
   "cell_type": "code",
   "execution_count": 24,
   "metadata": {},
   "outputs": [
    {
     "data": {
      "image/png": "[encoded data removed]",
      "text/plain": [
       "<Figure size 432x288 with 1 Axes>"
      ]
     },
     "metadata": {
      "needs_background": "light"
     },
     "output_type": "display_data"
    },
    {
     "data": {
      "text/plain": [
       "<Figure size 576x432 with 0 Axes>"
      ]
     },
     "metadata": {},
     "output_type": "display_data"
    }
   ],
   "source": [
    "# 1. Scatter plot for AGE vs ALCOHOL CONSUMING\n",
    "alcohol = LCdata['ALCOHOL CONSUMING']\n",
    "age = LCdata.AGE\n",
    "thinkplot.Scatter(age,alcohol)\n",
    "thinkplot.Show(xlabel = 'AGE', ylabel = 'ALCOHOL CONSUMING')"
   ]
  },
  {
   "cell_type": "markdown",
   "metadata": {},
   "source": [
    "From the above scatter plot it is clear that there is a linear relation between the variables 'AGE' and 'ALCOHOL CONSUMING'."
   ]
  },
  {
   "cell_type": "code",
   "execution_count": 25,
   "metadata": {},
   "outputs": [
    {
     "name": "stdout",
     "output_type": "stream",
     "text": [
      " Covariance of AGE and ALCOHOL CONSUMING variables from the dataset : 0.21655114471749642\n"
     ]
    }
   ],
   "source": [
    "covariance = Cov(age,alcohol)\n",
    "print(f\" Covariance of AGE and ALCOHOL CONSUMING variables from the dataset : {covariance}\")"
   ]
  },
  {
   "cell_type": "code",
   "execution_count": 26,
   "metadata": {},
   "outputs": [
    {
     "name": "stdout",
     "output_type": "stream",
     "text": [
      " Pearson's correlation coefficient for AGE and ALCOHOL CONSUMING variables from the dataset: 0.05204925930094622\n"
     ]
    }
   ],
   "source": [
    "pcorr = Corr(age, alcohol)\n",
    "print(f\" Pearson's correlation coefficient for AGE and ALCOHOL CONSUMING variables from the dataset: {pcorr}\")"
   ]
  },
  {
   "cell_type": "markdown",
   "metadata": {},
   "source": [
    "1. Covariance measures the tendency of the two variables to vary together.\n",
    "2. Covariance is maximized if the two vectors are identical, 0 if they are orthogonal, and negative if they point in opposite    directions.\n",
    "3. Solution : From the above result we see that the covariance of the two variables 'AGE' and 'ALCOHOL CONSUMING' are            identical, i.e. age group 50 to  80 consume alcohol.\n",
    "4. Pearson’s Correlation is always between -1 and +1(including both).\n",
    "   a. If Pearson’s Correlation is positive , we say that the correlation is positive, i.e. when one variable is high , the        other tends to be high.\n",
    "   b. If Pearson’s Correlation is negative, we say that the correlation is negative , i.e. when one variable is high , the        other is low.\n",
    "5. Solution  : From the above result it is clear that the correlation between the AGE and ALCOHOL CONSUMING variables is        positive."
   ]
  },
  {
   "cell_type": "code",
   "execution_count": 27,
   "metadata": {},
   "outputs": [
    {
     "data": {
      "image/png": "[encoded data removed]",
      "text/plain": [
       "<Figure size 432x288 with 1 Axes>"
      ]
     },
     "metadata": {
      "needs_background": "light"
     },
     "output_type": "display_data"
    },
    {
     "data": {
      "text/plain": [
       "<Figure size 576x432 with 0 Axes>"
      ]
     },
     "metadata": {},
     "output_type": "display_data"
    }
   ],
   "source": [
    "#2. Scatter plot for AGE vs SMOKING\n",
    "age = LCdata.AGE\n",
    "smoke = LCdata.SMOKING\n",
    "thinkplot.Scatter(age , smoke)\n",
    "thinkplot.Show(xlabel = 'AGE', ylabel = 'SMOKING')"
   ]
  },
  {
   "cell_type": "code",
   "execution_count": 28,
   "metadata": {},
   "outputs": [
    {
     "name": "stdout",
     "output_type": "stream",
     "text": [
      " Covariance of AGE and SMOKING variables from the dataset : -0.3058443604284815\n"
     ]
    }
   ],
   "source": [
    "covariance = Cov(age,smoke)\n",
    "print(f\" Covariance of AGE and SMOKING variables from the dataset : {covariance}\")"
   ]
  },
  {
   "cell_type": "code",
   "execution_count": 29,
   "metadata": {},
   "outputs": [
    {
     "name": "stdout",
     "output_type": "stream",
     "text": [
      " Pearson's correlation coefficient for AGE and SMOKING variables from the dataset: -0.07341017865904706\n"
     ]
    }
   ],
   "source": [
    "pcorr = Corr(age, smoke)\n",
    "print(f\" Pearson's correlation coefficient for AGE and SMOKING variables from the dataset: {pcorr}\")"
   ]
  },
  {
   "cell_type": "markdown",
   "metadata": {},
   "source": [
    "1. Covariance measures the tendency of the two variables to vary together.\n",
    "2. Covariance is maximized if the two vectors are identical, 0 if they are orthogonal, and negative if they point in opposite    directions.\n",
    "3. Solution : From the above result we see that the covariance of the two variables 'AGE' and 'SMOKING' is negative , i.e.they point in opposite direction,i.e age groups 20 SMOKE and may not have LUNG CANCER and the age gropus above 90 may not smoke    but have LUNG CANCER .\n",
    "4. Pearson’s Correlation is always between -1 and +1(including both). \n",
    "   a. If Pearson’s Correlation is positive , we say that the  correlation is positive, i.e. when one variable is high , the other tends to be high. \n",
    "   b. If Pearson’s Correlation is negative, we say that the correlation is negative , i.e. when one variable is high , the other is low.\n",
    "5. Solution : From the above result it is clear that the correlation between the 'AGE' and 'SMOKING' variables is negative."
   ]
  },
  {
   "cell_type": "markdown",
   "metadata": {},
   "source": [
    "#### Step 9 :Conduct a test on your hypothesis using one of the methods covered in Chapter 9."
   ]
  },
  {
   "cell_type": "code",
   "execution_count": 30,
   "metadata": {},
   "outputs": [],
   "source": [
    "class HypothesisTest(object):\n",
    "\n",
    "    def __init__(self, data):\n",
    "        self.data = data\n",
    "        self.MakeModel()\n",
    "        self.actual = self.TestStatistic(data)\n",
    "\n",
    "    def PValue(self, iters=1000):\n",
    "        self.test_stats = [self.TestStatistic(self.RunModel()) \n",
    "                           for _ in range(iters)]\n",
    "\n",
    "        count = sum(1 for x in self.test_stats if x >= self.actual)\n",
    "        return count / iters\n",
    "\n",
    "    def TestStatistic(self, data):\n",
    "        raise UnimplementedMethodException()\n",
    "\n",
    "    def MakeModel(self):\n",
    "        pass\n",
    "\n",
    "    def RunModel(self):\n",
    "        raise UnimplementedMethodException()"
   ]
  },
  {
   "cell_type": "code",
   "execution_count": 31,
   "metadata": {},
   "outputs": [],
   "source": [
    "class CorrelationPermute(HypothesisTest):\n",
    "\n",
    "    def TestStatistic(self, data):\n",
    "        xs, ys = data\n",
    "        test_stat = abs(thinkstats2.Corr(xs, ys))\n",
    "        return test_stat\n",
    "\n",
    "    def RunModel(self):\n",
    "        xs, ys = self.data\n",
    "        xs = np.random.permutation(xs)\n",
    "        return xs, ys"
   ]
  },
  {
   "cell_type": "code",
   "execution_count": 36,
   "metadata": {},
   "outputs": [
    {
     "data": {
      "text/plain": [
       "0.246"
      ]
     },
     "execution_count": 36,
     "metadata": {},
     "output_type": "execute_result"
    }
   ],
   "source": [
    "testdata = LCdata.SMOKING, LCdata.AGE\n",
    "ht = CorrelationPermute(testdata)\n",
    "pvalue = ht.PValue()\n",
    "pvalue"
   ]
  },
  {
   "cell_type": "markdown",
   "metadata": {},
   "source": [
    "#### Step 10 : For this project, conduct a regression analysis on either one dependent and one explanatory variable, or multiple explanatory variables (Chapter 10 & 11)."
   ]
  },
  {
   "cell_type": "code",
   "execution_count": 33,
   "metadata": {},
   "outputs": [
    {
     "name": "stdout",
     "output_type": "stream",
     "text": [
      "                            OLS Regression Results                            \n",
      "==============================================================================\n",
      "Dep. Variable:            LUNG_CANCER   R-squared:                       0.001\n",
      "Model:                            OLS   Adj. R-squared:                 -0.002\n",
      "Method:                 Least Squares   F-statistic:                    0.3337\n",
      "Date:                Wed, 10 Aug 2022   Prob (F-statistic):              0.564\n",
      "Time:                        12:42:32   Log-Likelihood:                -97.389\n",
      "No. Observations:                 276   AIC:                             198.8\n",
      "Df Residuals:                     274   BIC:                             206.0\n",
      "Df Model:                           1                                         \n",
      "Covariance Type:            nonrobust                                         \n",
      "==============================================================================\n",
      "                 coef    std err          t      P>|t|      [0.025      0.975]\n",
      "------------------------------------------------------------------------------\n",
      "Intercept      1.8251      0.068     26.944      0.000       1.692       1.958\n",
      "SMOKING        0.0241      0.042      0.578      0.564      -0.058       0.106\n",
      "==============================================================================\n",
      "Omnibus:                      113.363   Durbin-Watson:                   1.882\n",
      "Prob(Omnibus):                  0.000   Jarque-Bera (JB):              269.891\n",
      "Skew:                          -2.099   Prob(JB):                     2.48e-59\n",
      "Kurtosis:                       5.417   Cond. No.                         7.15\n",
      "==============================================================================\n",
      "\n",
      "Notes:\n",
      "[1] Standard Errors assume that the covariance matrix of the errors is correctly specified.\n"
     ]
    }
   ],
   "source": [
    "import statsmodels.formula.api as smf\n",
    "# As the LUNG_CANCER variable has non-numeric values, mapping them with numeric values.\n",
    "LCdata['LUNG_CANCER'] = LCdata['LUNG_CANCER'].map({'NO': 1, 'YES': 2})\n",
    "# regression analysis.\n",
    "formula = 'LUNG_CANCER ~ SMOKING'\n",
    "model = smf.ols(formula, data=LCdata)\n",
    "results = model.fit()\n",
    "print(results.summary())"
   ]
  },
  {
   "cell_type": "code",
   "execution_count": 35,
   "metadata": {},
   "outputs": [
    {
     "name": "stdout",
     "output_type": "stream",
     "text": [
      "                            OLS Regression Results                            \n",
      "==============================================================================\n",
      "Dep. Variable:            LUNG_CANCER   R-squared:                       0.098\n",
      "Model:                            OLS   Adj. R-squared:                  0.088\n",
      "Method:                 Least Squares   F-statistic:                     9.878\n",
      "Date:                Wed, 10 Aug 2022   Prob (F-statistic):           3.33e-06\n",
      "Time:                        12:52:20   Log-Likelihood:                -83.286\n",
      "No. Observations:                 276   AIC:                             174.6\n",
      "Df Residuals:                     272   BIC:                             189.1\n",
      "Df Model:                           3                                         \n",
      "Covariance Type:            nonrobust                                         \n",
      "==============================================================================\n",
      "                 coef    std err          t      P>|t|      [0.025      0.975]\n",
      "------------------------------------------------------------------------------\n",
      "Intercept      1.2400      0.177      7.012      0.000       0.892       1.588\n",
      "AGE            0.0039      0.002      1.649      0.100      -0.001       0.009\n",
      "SMOKING        0.0396      0.040      0.991      0.322      -0.039       0.118\n",
      "ALCOHOL        0.2026      0.040      5.067      0.000       0.124       0.281\n",
      "==============================================================================\n",
      "Omnibus:                       91.855   Durbin-Watson:                   1.980\n",
      "Prob(Omnibus):                  0.000   Jarque-Bera (JB):              185.731\n",
      "Skew:                          -1.768   Prob(JB):                     4.67e-41\n",
      "Kurtosis:                       4.910   Cond. No.                         570.\n",
      "==============================================================================\n",
      "\n",
      "Notes:\n",
      "[1] Standard Errors assume that the covariance matrix of the errors is correctly specified.\n"
     ]
    }
   ],
   "source": [
    "# Regression analysis for multiple variables\n",
    "ALCOHOL = LCdata['ALCOHOL CONSUMING']\n",
    "formula = 'LUNG_CANCER ~ AGE + SMOKING + ALCOHOL'\n",
    "model = smf.ols(formula, data=LCdata)\n",
    "results = model.fit()\n",
    "print(results.summary())"
   ]
  },
  {
   "cell_type": "code",
   "execution_count": null,
   "metadata": {},
   "outputs": [],
   "source": []
  }
 ],
 "metadata": {
  "kernelspec": {
   "display_name": "Python 3",
   "language": "python",
   "name": "python3"
  },
  "language_info": {
   "codemirror_mode": {
    "name": "ipython",
    "version": 3
   },
   "file_extension": ".py",
   "mimetype": "text/x-python",
   "name": "python",
   "nbconvert_exporter": "python",
   "pygments_lexer": "ipython3",
   "version": "3.8.5"
  }
 },
 "nbformat": 4,
 "nbformat_minor": 4
}
