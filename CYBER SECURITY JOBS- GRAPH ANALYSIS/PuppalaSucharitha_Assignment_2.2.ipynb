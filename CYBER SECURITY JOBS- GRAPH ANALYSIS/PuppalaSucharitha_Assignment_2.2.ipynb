{
 "cells": [
  {
   "cell_type": "markdown",
   "id": "7e2836a4",
   "metadata": {},
   "source": [
    "\n",
    "### WEEK 2\n",
    "### Assignment 2.2 - Graph Analysis with matplolib\n",
    "### Puppala Sucharitha\n",
    "### Date : 09/09/2022"
   ]
  },
  {
   "cell_type": "markdown",
   "id": "f014eae1",
   "metadata": {},
   "source": [
    "#### Importing the necessary Libraries."
   ]
  },
  {
   "cell_type": "code",
   "execution_count": 1,
   "id": "23717648",
   "metadata": {},
   "outputs": [],
   "source": [
    "import numpy as np\n",
    "import pandas as pd\n",
    "import seaborn as sns\n",
    "import matplotlib as mpl\n",
    "import matplotlib.mlab as mlab\n",
    "import matplotlib.pyplot as plt\n",
    "%matplotlib inline"
   ]
  },
  {
   "cell_type": "markdown",
   "id": "62eaba8c",
   "metadata": {},
   "source": [
    "### 1 . Using a data set of your choice, write an introduction explaining the data set."
   ]
  },
  {
   "cell_type": "markdown",
   "id": "eab349a8",
   "metadata": {},
   "source": [
    "Cybersecurity is the practice of protecting systems, networks, and programs from digital attacks. These cyberattacks are usually aimed at accessing, changing, or destroying sensitive information; extorting money from users; or interrupting normal business processes. Cybersecurity is a term used to describe the process of preserving sensitive information on the internet and devices from attack, deletion, or illegal access. The cyber security goal is to provide a risk-free and secure environment in which data, networks, and devices can be protected from cyberattacks.It is a complex field, and many roles can be found within banks, retailers, e-tailers, healthcare, and government organizations. On the job, you can expect to safeguard an organization's files and network, install firewalls, create security plans, guard customer data, and monitor activity.\n",
    "\n",
    "Here in the data set we have many different Cyber Security job roles details from the entry level and to the top level. All the data collected is from the years 2020 to 2022.  The data set has 1247 rows and 11 variables in the columns. The following are the columns in the data set : work_year,experience_level,employment_type,job_title,salary,salary_currency,salary_in_usd, employee_residence,remote_ratio,company_location,company_size."
   ]
  },
  {
   "cell_type": "code",
   "execution_count": 2,
   "id": "019f606c",
   "metadata": {},
   "outputs": [],
   "source": [
    "# Load the file Cyber Security Salaries file.\n",
    "\n",
    "cyberdf = pd.read_csv(\"salaries_cyber.csv\")"
   ]
  },
  {
   "cell_type": "code",
   "execution_count": 3,
   "id": "3699216d",
   "metadata": {},
   "outputs": [
    {
     "data": {
      "text/html": [
       "<div>\n",
       "<style scoped>\n",
       "    .dataframe tbody tr th:only-of-type {\n",
       "        vertical-align: middle;\n",
       "    }\n",
       "\n",
       "    .dataframe tbody tr th {\n",
       "        vertical-align: top;\n",
       "    }\n",
       "\n",
       "    .dataframe thead th {\n",
       "        text-align: right;\n",
       "    }\n",
       "</style>\n",
       "<table border=\"1\" class=\"dataframe\">\n",
       "  <thead>\n",
       "    <tr style=\"text-align: right;\">\n",
       "      <th></th>\n",
       "      <th>work_year</th>\n",
       "      <th>experience_level</th>\n",
       "      <th>employment_type</th>\n",
       "      <th>job_title</th>\n",
       "      <th>salary</th>\n",
       "      <th>salary_currency</th>\n",
       "      <th>salary_in_usd</th>\n",
       "      <th>employee_residence</th>\n",
       "      <th>remote_ratio</th>\n",
       "      <th>company_location</th>\n",
       "      <th>company_size</th>\n",
       "    </tr>\n",
       "  </thead>\n",
       "  <tbody>\n",
       "    <tr>\n",
       "      <th>0</th>\n",
       "      <td>2022</td>\n",
       "      <td>EN</td>\n",
       "      <td>FT</td>\n",
       "      <td>Cyber Program Manager</td>\n",
       "      <td>63000</td>\n",
       "      <td>USD</td>\n",
       "      <td>63000</td>\n",
       "      <td>US</td>\n",
       "      <td>50</td>\n",
       "      <td>US</td>\n",
       "      <td>S</td>\n",
       "    </tr>\n",
       "    <tr>\n",
       "      <th>1</th>\n",
       "      <td>2022</td>\n",
       "      <td>MI</td>\n",
       "      <td>FT</td>\n",
       "      <td>Security Analyst</td>\n",
       "      <td>95000</td>\n",
       "      <td>USD</td>\n",
       "      <td>95000</td>\n",
       "      <td>US</td>\n",
       "      <td>0</td>\n",
       "      <td>US</td>\n",
       "      <td>M</td>\n",
       "    </tr>\n",
       "    <tr>\n",
       "      <th>2</th>\n",
       "      <td>2022</td>\n",
       "      <td>MI</td>\n",
       "      <td>FT</td>\n",
       "      <td>Security Analyst</td>\n",
       "      <td>70000</td>\n",
       "      <td>USD</td>\n",
       "      <td>70000</td>\n",
       "      <td>US</td>\n",
       "      <td>0</td>\n",
       "      <td>US</td>\n",
       "      <td>M</td>\n",
       "    </tr>\n",
       "    <tr>\n",
       "      <th>3</th>\n",
       "      <td>2022</td>\n",
       "      <td>MI</td>\n",
       "      <td>FT</td>\n",
       "      <td>IT Security Analyst</td>\n",
       "      <td>250000</td>\n",
       "      <td>BRL</td>\n",
       "      <td>48853</td>\n",
       "      <td>BR</td>\n",
       "      <td>50</td>\n",
       "      <td>BR</td>\n",
       "      <td>L</td>\n",
       "    </tr>\n",
       "    <tr>\n",
       "      <th>4</th>\n",
       "      <td>2022</td>\n",
       "      <td>EN</td>\n",
       "      <td>CT</td>\n",
       "      <td>Cyber Security Analyst</td>\n",
       "      <td>120000</td>\n",
       "      <td>USD</td>\n",
       "      <td>120000</td>\n",
       "      <td>BW</td>\n",
       "      <td>100</td>\n",
       "      <td>BW</td>\n",
       "      <td>S</td>\n",
       "    </tr>\n",
       "  </tbody>\n",
       "</table>\n",
       "</div>"
      ],
      "text/plain": [
       "   work_year experience_level employment_type               job_title  salary  \\\n",
       "0       2022               EN              FT   Cyber Program Manager   63000   \n",
       "1       2022               MI              FT        Security Analyst   95000   \n",
       "2       2022               MI              FT        Security Analyst   70000   \n",
       "3       2022               MI              FT     IT Security Analyst  250000   \n",
       "4       2022               EN              CT  Cyber Security Analyst  120000   \n",
       "\n",
       "  salary_currency  salary_in_usd employee_residence  remote_ratio  \\\n",
       "0             USD          63000                 US            50   \n",
       "1             USD          95000                 US             0   \n",
       "2             USD          70000                 US             0   \n",
       "3             BRL          48853                 BR            50   \n",
       "4             USD         120000                 BW           100   \n",
       "\n",
       "  company_location company_size  \n",
       "0               US            S  \n",
       "1               US            M  \n",
       "2               US            M  \n",
       "3               BR            L  \n",
       "4               BW            S  "
      ]
     },
     "execution_count": 3,
     "metadata": {},
     "output_type": "execute_result"
    }
   ],
   "source": [
    "# Getting the first five rows of the data set.\n",
    "cyberdf.head(5)"
   ]
  },
  {
   "cell_type": "code",
   "execution_count": 4,
   "id": "93622f26",
   "metadata": {},
   "outputs": [
    {
     "data": {
      "text/plain": [
       "(1247, 11)"
      ]
     },
     "execution_count": 4,
     "metadata": {},
     "output_type": "execute_result"
    }
   ],
   "source": [
    "# To get the shape of the data set i.e. how many rows and how many columns.\n",
    "cyberdf.shape"
   ]
  },
  {
   "cell_type": "code",
   "execution_count": 5,
   "id": "effdb882",
   "metadata": {},
   "outputs": [
    {
     "data": {
      "text/plain": [
       "13717"
      ]
     },
     "execution_count": 5,
     "metadata": {},
     "output_type": "execute_result"
    }
   ],
   "source": [
    "# To get the size of the data set.\n",
    "cyberdf.size"
   ]
  },
  {
   "cell_type": "code",
   "execution_count": 6,
   "id": "abde8dd9",
   "metadata": {},
   "outputs": [
    {
     "name": "stdout",
     "output_type": "stream",
     "text": [
      "<class 'pandas.core.frame.DataFrame'>\n",
      "RangeIndex: 1247 entries, 0 to 1246\n",
      "Data columns (total 11 columns):\n",
      " #   Column              Non-Null Count  Dtype \n",
      "---  ------              --------------  ----- \n",
      " 0   work_year           1247 non-null   int64 \n",
      " 1   experience_level    1247 non-null   object\n",
      " 2   employment_type     1247 non-null   object\n",
      " 3   job_title           1247 non-null   object\n",
      " 4   salary              1247 non-null   int64 \n",
      " 5   salary_currency     1247 non-null   object\n",
      " 6   salary_in_usd       1247 non-null   int64 \n",
      " 7   employee_residence  1247 non-null   object\n",
      " 8   remote_ratio        1247 non-null   int64 \n",
      " 9   company_location    1247 non-null   object\n",
      " 10  company_size        1247 non-null   object\n",
      "dtypes: int64(4), object(7)\n",
      "memory usage: 107.3+ KB\n"
     ]
    }
   ],
   "source": [
    "# Information of the data set variables.\n",
    "cyberdf.info()"
   ]
  },
  {
   "cell_type": "markdown",
   "id": "1b81b4f7",
   "metadata": {},
   "source": [
    "#### Data Cleaniing."
   ]
  },
  {
   "cell_type": "code",
   "execution_count": 7,
   "id": "38198583",
   "metadata": {},
   "outputs": [
    {
     "data": {
      "text/plain": [
       "work_year             0\n",
       "experience_level      0\n",
       "employment_type       0\n",
       "job_title             0\n",
       "salary                0\n",
       "salary_currency       0\n",
       "salary_in_usd         0\n",
       "employee_residence    0\n",
       "remote_ratio          0\n",
       "company_location      0\n",
       "company_size          0\n",
       "dtype: int64"
      ]
     },
     "execution_count": 7,
     "metadata": {},
     "output_type": "execute_result"
    }
   ],
   "source": [
    "# Checking for Null Values from the data set.\n",
    "cyberdf.isna().sum()"
   ]
  },
  {
   "cell_type": "code",
   "execution_count": 8,
   "id": "e2d287f4",
   "metadata": {},
   "outputs": [
    {
     "data": {
      "text/plain": [
       "0       False\n",
       "1       False\n",
       "2       False\n",
       "3       False\n",
       "4       False\n",
       "        ...  \n",
       "1242    False\n",
       "1243    False\n",
       "1244    False\n",
       "1245    False\n",
       "1246    False\n",
       "Length: 1247, dtype: bool"
      ]
     },
     "execution_count": 8,
     "metadata": {},
     "output_type": "execute_result"
    }
   ],
   "source": [
    "# Checking for duplicates.\n",
    "cyberdf.duplicated()"
   ]
  },
  {
   "cell_type": "code",
   "execution_count": 9,
   "id": "d77776d8",
   "metadata": {},
   "outputs": [
    {
     "data": {
      "text/plain": [
       "85"
      ]
     },
     "execution_count": 9,
     "metadata": {},
     "output_type": "execute_result"
    }
   ],
   "source": [
    "# getting the count of duplicates.\n",
    "cyberdf.duplicated().sum()"
   ]
  },
  {
   "cell_type": "code",
   "execution_count": 10,
   "id": "7e2ec200",
   "metadata": {},
   "outputs": [
    {
     "data": {
      "text/html": [
       "<div>\n",
       "<style scoped>\n",
       "    .dataframe tbody tr th:only-of-type {\n",
       "        vertical-align: middle;\n",
       "    }\n",
       "\n",
       "    .dataframe tbody tr th {\n",
       "        vertical-align: top;\n",
       "    }\n",
       "\n",
       "    .dataframe thead th {\n",
       "        text-align: right;\n",
       "    }\n",
       "</style>\n",
       "<table border=\"1\" class=\"dataframe\">\n",
       "  <thead>\n",
       "    <tr style=\"text-align: right;\">\n",
       "      <th></th>\n",
       "      <th>work_year</th>\n",
       "      <th>experience_level</th>\n",
       "      <th>employment_type</th>\n",
       "      <th>job_title</th>\n",
       "      <th>salary</th>\n",
       "      <th>salary_currency</th>\n",
       "      <th>salary_in_usd</th>\n",
       "      <th>employee_residence</th>\n",
       "      <th>remote_ratio</th>\n",
       "      <th>company_location</th>\n",
       "      <th>company_size</th>\n",
       "    </tr>\n",
       "  </thead>\n",
       "  <tbody>\n",
       "    <tr>\n",
       "      <th>0</th>\n",
       "      <td>2022</td>\n",
       "      <td>EN</td>\n",
       "      <td>FT</td>\n",
       "      <td>Cyber Program Manager</td>\n",
       "      <td>63000</td>\n",
       "      <td>USD</td>\n",
       "      <td>63000</td>\n",
       "      <td>US</td>\n",
       "      <td>50</td>\n",
       "      <td>US</td>\n",
       "      <td>S</td>\n",
       "    </tr>\n",
       "    <tr>\n",
       "      <th>1</th>\n",
       "      <td>2022</td>\n",
       "      <td>MI</td>\n",
       "      <td>FT</td>\n",
       "      <td>Security Analyst</td>\n",
       "      <td>95000</td>\n",
       "      <td>USD</td>\n",
       "      <td>95000</td>\n",
       "      <td>US</td>\n",
       "      <td>0</td>\n",
       "      <td>US</td>\n",
       "      <td>M</td>\n",
       "    </tr>\n",
       "    <tr>\n",
       "      <th>2</th>\n",
       "      <td>2022</td>\n",
       "      <td>MI</td>\n",
       "      <td>FT</td>\n",
       "      <td>Security Analyst</td>\n",
       "      <td>70000</td>\n",
       "      <td>USD</td>\n",
       "      <td>70000</td>\n",
       "      <td>US</td>\n",
       "      <td>0</td>\n",
       "      <td>US</td>\n",
       "      <td>M</td>\n",
       "    </tr>\n",
       "    <tr>\n",
       "      <th>3</th>\n",
       "      <td>2022</td>\n",
       "      <td>MI</td>\n",
       "      <td>FT</td>\n",
       "      <td>IT Security Analyst</td>\n",
       "      <td>250000</td>\n",
       "      <td>BRL</td>\n",
       "      <td>48853</td>\n",
       "      <td>BR</td>\n",
       "      <td>50</td>\n",
       "      <td>BR</td>\n",
       "      <td>L</td>\n",
       "    </tr>\n",
       "    <tr>\n",
       "      <th>4</th>\n",
       "      <td>2022</td>\n",
       "      <td>EN</td>\n",
       "      <td>CT</td>\n",
       "      <td>Cyber Security Analyst</td>\n",
       "      <td>120000</td>\n",
       "      <td>USD</td>\n",
       "      <td>120000</td>\n",
       "      <td>BW</td>\n",
       "      <td>100</td>\n",
       "      <td>BW</td>\n",
       "      <td>S</td>\n",
       "    </tr>\n",
       "    <tr>\n",
       "      <th>...</th>\n",
       "      <td>...</td>\n",
       "      <td>...</td>\n",
       "      <td>...</td>\n",
       "      <td>...</td>\n",
       "      <td>...</td>\n",
       "      <td>...</td>\n",
       "      <td>...</td>\n",
       "      <td>...</td>\n",
       "      <td>...</td>\n",
       "      <td>...</td>\n",
       "      <td>...</td>\n",
       "    </tr>\n",
       "    <tr>\n",
       "      <th>1242</th>\n",
       "      <td>2020</td>\n",
       "      <td>MI</td>\n",
       "      <td>FT</td>\n",
       "      <td>Cyber Security Analyst</td>\n",
       "      <td>140000</td>\n",
       "      <td>AUD</td>\n",
       "      <td>96422</td>\n",
       "      <td>AU</td>\n",
       "      <td>50</td>\n",
       "      <td>AU</td>\n",
       "      <td>M</td>\n",
       "    </tr>\n",
       "    <tr>\n",
       "      <th>1243</th>\n",
       "      <td>2021</td>\n",
       "      <td>SE</td>\n",
       "      <td>FT</td>\n",
       "      <td>Information Security Manager</td>\n",
       "      <td>60000</td>\n",
       "      <td>GBP</td>\n",
       "      <td>82528</td>\n",
       "      <td>GB</td>\n",
       "      <td>50</td>\n",
       "      <td>GB</td>\n",
       "      <td>L</td>\n",
       "    </tr>\n",
       "    <tr>\n",
       "      <th>1244</th>\n",
       "      <td>2021</td>\n",
       "      <td>SE</td>\n",
       "      <td>FT</td>\n",
       "      <td>Penetration Testing Engineer</td>\n",
       "      <td>126000</td>\n",
       "      <td>USD</td>\n",
       "      <td>126000</td>\n",
       "      <td>US</td>\n",
       "      <td>100</td>\n",
       "      <td>US</td>\n",
       "      <td>L</td>\n",
       "    </tr>\n",
       "    <tr>\n",
       "      <th>1245</th>\n",
       "      <td>2021</td>\n",
       "      <td>MI</td>\n",
       "      <td>FT</td>\n",
       "      <td>Information Security Analyst</td>\n",
       "      <td>42000</td>\n",
       "      <td>GBP</td>\n",
       "      <td>57769</td>\n",
       "      <td>GB</td>\n",
       "      <td>100</td>\n",
       "      <td>GB</td>\n",
       "      <td>L</td>\n",
       "    </tr>\n",
       "    <tr>\n",
       "      <th>1246</th>\n",
       "      <td>2021</td>\n",
       "      <td>MI</td>\n",
       "      <td>FT</td>\n",
       "      <td>Threat Intelligence Analyst</td>\n",
       "      <td>66310</td>\n",
       "      <td>USD</td>\n",
       "      <td>66310</td>\n",
       "      <td>US</td>\n",
       "      <td>0</td>\n",
       "      <td>US</td>\n",
       "      <td>L</td>\n",
       "    </tr>\n",
       "  </tbody>\n",
       "</table>\n",
       "<p>1162 rows × 11 columns</p>\n",
       "</div>"
      ],
      "text/plain": [
       "      work_year experience_level employment_type  \\\n",
       "0          2022               EN              FT   \n",
       "1          2022               MI              FT   \n",
       "2          2022               MI              FT   \n",
       "3          2022               MI              FT   \n",
       "4          2022               EN              CT   \n",
       "...         ...              ...             ...   \n",
       "1242       2020               MI              FT   \n",
       "1243       2021               SE              FT   \n",
       "1244       2021               SE              FT   \n",
       "1245       2021               MI              FT   \n",
       "1246       2021               MI              FT   \n",
       "\n",
       "                         job_title  salary salary_currency  salary_in_usd  \\\n",
       "0            Cyber Program Manager   63000             USD          63000   \n",
       "1                 Security Analyst   95000             USD          95000   \n",
       "2                 Security Analyst   70000             USD          70000   \n",
       "3              IT Security Analyst  250000             BRL          48853   \n",
       "4           Cyber Security Analyst  120000             USD         120000   \n",
       "...                            ...     ...             ...            ...   \n",
       "1242        Cyber Security Analyst  140000             AUD          96422   \n",
       "1243  Information Security Manager   60000             GBP          82528   \n",
       "1244  Penetration Testing Engineer  126000             USD         126000   \n",
       "1245  Information Security Analyst   42000             GBP          57769   \n",
       "1246   Threat Intelligence Analyst   66310             USD          66310   \n",
       "\n",
       "     employee_residence  remote_ratio company_location company_size  \n",
       "0                    US            50               US            S  \n",
       "1                    US             0               US            M  \n",
       "2                    US             0               US            M  \n",
       "3                    BR            50               BR            L  \n",
       "4                    BW           100               BW            S  \n",
       "...                 ...           ...              ...          ...  \n",
       "1242                 AU            50               AU            M  \n",
       "1243                 GB            50               GB            L  \n",
       "1244                 US           100               US            L  \n",
       "1245                 GB           100               GB            L  \n",
       "1246                 US             0               US            L  \n",
       "\n",
       "[1162 rows x 11 columns]"
      ]
     },
     "execution_count": 10,
     "metadata": {},
     "output_type": "execute_result"
    }
   ],
   "source": [
    "# Drop the duplicates.\n",
    "cyberdf.drop_duplicates()"
   ]
  },
  {
   "cell_type": "code",
   "execution_count": 11,
   "id": "ea8a87e0",
   "metadata": {},
   "outputs": [
    {
     "data": {
      "text/html": [
       "<div>\n",
       "<style scoped>\n",
       "    .dataframe tbody tr th:only-of-type {\n",
       "        vertical-align: middle;\n",
       "    }\n",
       "\n",
       "    .dataframe tbody tr th {\n",
       "        vertical-align: top;\n",
       "    }\n",
       "\n",
       "    .dataframe thead th {\n",
       "        text-align: right;\n",
       "    }\n",
       "</style>\n",
       "<table border=\"1\" class=\"dataframe\">\n",
       "  <thead>\n",
       "    <tr style=\"text-align: right;\">\n",
       "      <th></th>\n",
       "      <th>work_year</th>\n",
       "      <th>salary</th>\n",
       "      <th>salary_in_usd</th>\n",
       "      <th>remote_ratio</th>\n",
       "    </tr>\n",
       "  </thead>\n",
       "  <tbody>\n",
       "    <tr>\n",
       "      <th>count</th>\n",
       "      <td>1247.000000</td>\n",
       "      <td>1.247000e+03</td>\n",
       "      <td>1247.000000</td>\n",
       "      <td>1247.000000</td>\n",
       "    </tr>\n",
       "    <tr>\n",
       "      <th>mean</th>\n",
       "      <td>2021.316760</td>\n",
       "      <td>5.608525e+05</td>\n",
       "      <td>120278.218925</td>\n",
       "      <td>71.491580</td>\n",
       "    </tr>\n",
       "    <tr>\n",
       "      <th>std</th>\n",
       "      <td>0.715501</td>\n",
       "      <td>1.415944e+07</td>\n",
       "      <td>70291.394942</td>\n",
       "      <td>39.346851</td>\n",
       "    </tr>\n",
       "    <tr>\n",
       "      <th>min</th>\n",
       "      <td>2020.000000</td>\n",
       "      <td>1.740000e+03</td>\n",
       "      <td>2000.000000</td>\n",
       "      <td>0.000000</td>\n",
       "    </tr>\n",
       "    <tr>\n",
       "      <th>25%</th>\n",
       "      <td>2021.000000</td>\n",
       "      <td>7.975450e+04</td>\n",
       "      <td>74594.500000</td>\n",
       "      <td>50.000000</td>\n",
       "    </tr>\n",
       "    <tr>\n",
       "      <th>50%</th>\n",
       "      <td>2021.000000</td>\n",
       "      <td>1.200000e+05</td>\n",
       "      <td>110000.000000</td>\n",
       "      <td>100.000000</td>\n",
       "    </tr>\n",
       "    <tr>\n",
       "      <th>75%</th>\n",
       "      <td>2022.000000</td>\n",
       "      <td>1.600800e+05</td>\n",
       "      <td>150000.000000</td>\n",
       "      <td>100.000000</td>\n",
       "    </tr>\n",
       "    <tr>\n",
       "      <th>max</th>\n",
       "      <td>2022.000000</td>\n",
       "      <td>5.000000e+08</td>\n",
       "      <td>910991.000000</td>\n",
       "      <td>100.000000</td>\n",
       "    </tr>\n",
       "  </tbody>\n",
       "</table>\n",
       "</div>"
      ],
      "text/plain": [
       "         work_year        salary  salary_in_usd  remote_ratio\n",
       "count  1247.000000  1.247000e+03    1247.000000   1247.000000\n",
       "mean   2021.316760  5.608525e+05  120278.218925     71.491580\n",
       "std       0.715501  1.415944e+07   70291.394942     39.346851\n",
       "min    2020.000000  1.740000e+03    2000.000000      0.000000\n",
       "25%    2021.000000  7.975450e+04   74594.500000     50.000000\n",
       "50%    2021.000000  1.200000e+05  110000.000000    100.000000\n",
       "75%    2022.000000  1.600800e+05  150000.000000    100.000000\n",
       "max    2022.000000  5.000000e+08  910991.000000    100.000000"
      ]
     },
     "execution_count": 11,
     "metadata": {},
     "output_type": "execute_result"
    }
   ],
   "source": [
    "# Describing the data set.\n",
    "cyberdf.describe()"
   ]
  },
  {
   "cell_type": "markdown",
   "id": "f63912b2",
   "metadata": {},
   "source": [
    "### 2. Identify a question or question(s) that you would like to explore in your data set."
   ]
  },
  {
   "cell_type": "markdown",
   "id": "aa14d5a8",
   "metadata": {},
   "source": [
    "From the analysis of the cyber security slaries data set I would like to explore the following questions.\n",
    "1. From the data set which level of experience has more salaries.\n",
    "2. What are the top ten Job roles in the Cyber Security field?\n",
    "3. Which countries has the highest Company Locations and Employee Residency?\n",
    "4. Impact of Company size on salary in USD.\n",
    "5. Which year is the most work year?"
   ]
  },
  {
   "cell_type": "markdown",
   "id": "5f93c387",
   "metadata": {},
   "source": [
    "### 3. Create at least three graphs that help answer these questions. Make sure your graphs are clearly readable and are labeled appropriately and professionally."
   ]
  },
  {
   "cell_type": "code",
   "execution_count": 12,
   "id": "6edd31ef",
   "metadata": {},
   "outputs": [
    {
     "data": {
      "text/plain": [
       "Text(0.5, 1.0, 'Salary in USD by Experience Level')"
      ]
     },
     "execution_count": 12,
     "metadata": {},
     "output_type": "execute_result"
    },
    {
     "data": {
      "image/png": "[encoded data removed]",
      "text/plain": [
       "<Figure size 720x504 with 1 Axes>"
      ]
     },
     "metadata": {
      "needs_background": "light"
     },
     "output_type": "display_data"
    }
   ],
   "source": [
    "# Box plot for Experience level and Salary.\n",
    "fig, ax = plt.subplots(1, 1, figsize=(10,7), tight_layout = True)\n",
    "sns.boxplot(x='experience_level', y='salary_in_usd', data=cyberdf)\n",
    "plt.xlabel('Experience Level')\n",
    "plt.ylabel('Salary in USD')\n",
    "plt.title('Salary in USD by Experience Level')"
   ]
  },
  {
   "cell_type": "code",
   "execution_count": 13,
   "id": "a2ca1da7",
   "metadata": {},
   "outputs": [
    {
     "data": {
      "text/plain": [
       "Text(0, 0.5, 'Count')"
      ]
     },
     "execution_count": 13,
     "metadata": {},
     "output_type": "execute_result"
    },
    {
     "data": {
      "image/png": "[encoded data removed]",
      "text/plain": [
       "<Figure size 720x576 with 1 Axes>"
      ]
     },
     "metadata": {
      "needs_background": "light"
     },
     "output_type": "display_data"
    }
   ],
   "source": [
    "# Bar plot to get the top 10 job titles in Cyber Security.\n",
    "top_10 = cyberdf['job_title'].value_counts()[:10]\n",
    "top_10.plot(kind='bar',figsize=(10,8))\n",
    "plt.title('Top 10 Job Titles in Cyber Security')\n",
    "plt.xlabel('Job Title')\n",
    "plt.ylabel('Count')"
   ]
  },
  {
   "cell_type": "code",
   "execution_count": 14,
   "id": "b0e0f0aa",
   "metadata": {},
   "outputs": [
    {
     "data": {
      "text/plain": [
       "Text(0, 0.5, 'Count')"
      ]
     },
     "execution_count": 14,
     "metadata": {},
     "output_type": "execute_result"
    },
    {
     "data": {
      "image/png": "[encoded data removed]",
      "text/plain": [
       "<Figure size 720x576 with 1 Axes>"
      ]
     },
     "metadata": {
      "needs_background": "light"
     },
     "output_type": "display_data"
    }
   ],
   "source": [
    "# Bar plot to get the top 10 Company locations with Cyber Security jobs\n",
    "top_10 = cyberdf['company_location'].value_counts()[:10]\n",
    "top_10.plot(kind='bar',figsize=(10,8),color = (0.4,0.1,0.4,0.6))\n",
    "plt.title('Top 10 Company Locations with Cyber Security Jobs')\n",
    "plt.xlabel('Company Location')\n",
    "plt.ylabel('Count')"
   ]
  },
  {
   "cell_type": "code",
   "execution_count": 15,
   "id": "8ec9d29a",
   "metadata": {},
   "outputs": [
    {
     "data": {
      "text/plain": [
       "Text(0, 0.5, 'Count')"
      ]
     },
     "execution_count": 15,
     "metadata": {},
     "output_type": "execute_result"
    },
    {
     "data": {
      "image/png": "[encoded data removed]",
      "text/plain": [
       "<Figure size 720x576 with 1 Axes>"
      ]
     },
     "metadata": {
      "needs_background": "light"
     },
     "output_type": "display_data"
    }
   ],
   "source": [
    "# Bar plot to get which country is having highest employee residence\n",
    "top_10 = cyberdf['employee_residence'].value_counts()[:10]\n",
    "top_10.plot(kind='bar',figsize=(10,8), color = 'y')\n",
    "plt.title('Highest Employee Residence Countries')\n",
    "plt.xlabel('Employee Residence')\n",
    "plt.ylabel('Count')"
   ]
  },
  {
   "cell_type": "code",
   "execution_count": 16,
   "id": "f53b1017",
   "metadata": {},
   "outputs": [
    {
     "data": {
      "text/plain": [
       "Text(0.5, 1.0, 'Salary in USD by Company Size')"
      ]
     },
     "execution_count": 16,
     "metadata": {},
     "output_type": "execute_result"
    },
    {
     "data": {
      "image/png": "[encoded data removed]",
      "text/plain": [
       "<Figure size 720x504 with 1 Axes>"
      ]
     },
     "metadata": {
      "needs_background": "light"
     },
     "output_type": "display_data"
    }
   ],
   "source": [
    "# Boxplot for Company size and salary in USD.\n",
    "fig, ax = plt.subplots(1, 1, figsize=(10,7), tight_layout = True)\n",
    "sns.boxplot(x='company_size', y='salary_in_usd', data=cyberdf)\n",
    "plt.xlabel('Company Size')\n",
    "plt.ylabel('Salary in USD')\n",
    "plt.title('Salary in USD by Company Size')"
   ]
  },
  {
   "cell_type": "code",
   "execution_count": 17,
   "id": "cedf9a72",
   "metadata": {},
   "outputs": [],
   "source": [
    "# To know which country people earn more salary in usd in the cyber security jobs.\n",
    "# As it is hard to know about the salaries in usd for all the countries,\n",
    "# Consider the mean of the salaries in usd of all the countries and plot the result.\n",
    "saldat = cyberdf.groupby(cyberdf['salary_currency'])['salary_in_usd'].mean()\n",
    "salusd = pd.DataFrame({'country':saldat.index, 'mean_usd':saldat.values})\n",
    "salusd=salusd.sort_values(by=['mean_usd'])"
   ]
  },
  {
   "cell_type": "code",
   "execution_count": 18,
   "id": "bb0b7b6c",
   "metadata": {},
   "outputs": [
    {
     "data": {
      "image/png": "[encoded data removed]",
      "text/plain": [
       "<Figure size 1440x720 with 1 Axes>"
      ]
     },
     "metadata": {
      "needs_background": "light"
     },
     "output_type": "display_data"
    }
   ],
   "source": [
    "# Plotting bar plot for the mean of salaries in usd by countries.\n",
    "a=salusd['country']\n",
    "b=salusd['mean_usd']\n",
    "fig = plt.figure(figsize =(20,10))\n",
    "plt.bar(a,b,color='y')\n",
    "plt.xlabel(\"Country\",fontsize = 20, )\n",
    "plt.ylabel(\"Mean of salary in USD\",fontsize = 20)\n",
    "plt.title(\"Mean of Salary in USD in each Country\",fontsize = 20)\n",
    "plt.show()"
   ]
  },
  {
   "cell_type": "code",
   "execution_count": 19,
   "id": "e15314d2",
   "metadata": {},
   "outputs": [
    {
     "data": {
      "image/png": "[encoded data removed]",
      "text/plain": [
       "<Figure size 432x288 with 1 Axes>"
      ]
     },
     "metadata": {},
     "output_type": "display_data"
    }
   ],
   "source": [
    "# Pie plot to know which year has highest work.\n",
    "labels=['2022','2021','2020']\n",
    "cyberdf['work_year'].value_counts().plot(kind=\"pie\",labels=labels,autopct=\"%.2f\")\n",
    "plt.title(\"WORK YEAR\",fontsize = 20, fontweight='bold')\n",
    "plt.legend()\n",
    "plt.show()"
   ]
  },
  {
   "cell_type": "code",
   "execution_count": 20,
   "id": "a8a20e40",
   "metadata": {
    "scrolled": false
   },
   "outputs": [
    {
     "data": {
      "image/png": "[encoded data removed]",
      "text/plain": [
       "<Figure size 396x396 with 2 Axes>"
      ]
     },
     "metadata": {},
     "output_type": "display_data"
    }
   ],
   "source": [
    "# Correlation heatmap for the data set.\n",
    "f = plt.figure(figsize=(5.5, 5.5))  \n",
    "f.patch.set_facecolor('w') \n",
    "sns.heatmap(cyberdf.corr(), annot=True)\n",
    "plt.tight_layout()  # auto-adjust margins"
   ]
  },
  {
   "cell_type": "code",
   "execution_count": 21,
   "id": "a2fecee4",
   "metadata": {},
   "outputs": [
    {
     "data": {
      "text/plain": [
       "Text(0.5, 1.0, 'Salaries in USD by Experience level and Company Size')"
      ]
     },
     "execution_count": 21,
     "metadata": {},
     "output_type": "execute_result"
    },
    {
     "data": {
      "image/png": "[encoded data removed]",
      "text/plain": [
       "<Figure size 432x288 with 1 Axes>"
      ]
     },
     "metadata": {
      "needs_background": "light"
     },
     "output_type": "display_data"
    }
   ],
   "source": [
    "# Scatter plot to know highest salaries in USD by experience level and company size.\n",
    "sns.scatterplot(data=cyberdf, x=\"experience_level\", y=\"salary_in_usd\", hue=\"company_size\")\n",
    "plt.xlabel('Experience Level')\n",
    "plt.ylabel('Salary in USD')\n",
    "plt.title('Salaries in USD by Experience level and Company Size')"
   ]
  },
  {
   "cell_type": "markdown",
   "id": "e5e94beb",
   "metadata": {},
   "source": [
    "### 4. Explain what you have learned from each of your graphs."
   ]
  },
  {
   "cell_type": "markdown",
   "id": "c1008d02",
   "metadata": {},
   "source": [
    "From the above analysis the following are the different plots that are plotted from the cyber security salaries data set.\n",
    "\n",
    "1. Box plot for Experience level and Salary.\n",
    "2. Bar plot to get the top 10 job titles in Cyber Security.\n",
    "3. Bar plot to get the top 10 Company locations with Cyber Security jobs.\n",
    "4. Bar plot to get which country is having highest employee residence.\n",
    "5. Boxplot for Company size and salary in USD.\n",
    "6. Plotting bar plot for the mean of salaries in usd by countries.\n",
    "7. Pie plot to know which year has highest work.\n",
    "8. Correlation heatmap for the data set.\n",
    "9. Scatter plot to know highest salaries in USD by experience level and company size.\n",
    "\n",
    "There are different job titles in the field of Cyber Security and the salries paid to each role has changed depending on the experience level of the employee, company size.The experience levels are entry level(EL),mid level(MI), executive level(EX) and \n",
    "senior executive level(SE).The boxplot shows that EX level in experience level are highly paid,next comes the SE level.From the bar plot the top 10 job titles are extracted where we can see Security Engineer is the most popular job title among all the job titiles in the Cyber Security.The bar plot gives that US is in the top of the list in top 10 company locations for the Cyber Security jobs. The bar plot says that US is the to country that has more employee residence who are working in cyber Security next comes Isriel,Switzerland, Australia.As the data collected is from 2020 to 2022, I have considered a pie plot to get the year the job roles are more, and from the pie plot we can say that 2022 is having the higest job roles with 46.43% when compared to the remaining years.From the correlation map we cannot get to a proper solution,to arrive at a solution whether the salary paid in USD depends on experience level , company size or not, I have plotted a scatter plot, where we can find that the people working in the large sized companies are being paid more slaries in all experience levels when compared to the medium and small sized companies."
   ]
  },
  {
   "cell_type": "markdown",
   "id": "e7f4f20e",
   "metadata": {},
   "source": [
    "### 5. Write a conclusion that summarizes your findings."
   ]
  },
  {
   "cell_type": "markdown",
   "id": "d84e04e6",
   "metadata": {},
   "source": [
    "From all the above analysis I would like to summarize that the Cyber Security job market is huge in US. The salries paid to the different job titles in the Cyber Security is dependent on the size of the company and experience level. The large sized companies pay high slaries and the executive level of experience are paid high.US is the top county in having highest number of employee residence when compared to other countries.The job market for the Cyber Security has been increased during all the past three years for which the data is collected and can say that 2022 has the huge job market for Cyber Security.\n",
    "Above all, with the above analysis we can say that US has the huge job market for Cyber Security when compared to other countries."
   ]
  }
 ],
 "metadata": {
  "kernelspec": {
   "display_name": "Python 3 (ipykernel)",
   "language": "python",
   "name": "python3"
  },
  "language_info": {
   "codemirror_mode": {
    "name": "ipython",
    "version": 3
   },
   "file_extension": ".py",
   "mimetype": "text/x-python",
   "name": "python",
   "nbconvert_exporter": "python",
   "pygments_lexer": "ipython3",
   "version": "3.8.5"
  }
 },
 "nbformat": 4,
 "nbformat_minor": 5
}
